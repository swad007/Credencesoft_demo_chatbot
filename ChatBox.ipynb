{
  "nbformat": 4,
  "nbformat_minor": 0,
  "metadata": {
    "colab": {
      "name": "ChatBox.ipynb",
      "provenance": [],
      "collapsed_sections": []
    },
    "kernelspec": {
      "name": "python3",
      "display_name": "Python 3"
    }
  },
  "cells": [
    {
      "cell_type": "markdown",
      "metadata": {
        "id": "2wzfhZItc84k"
      },
      "source": [
        "Importing Libraries"
      ]
    },
    {
      "cell_type": "code",
      "metadata": {
        "id": "JQjkF41ddAf7"
      },
      "source": [
        "import nltk\r\n",
        "import numpy as np\r\n",
        "import random\r\n",
        "import string"
      ],
      "execution_count": 1,
      "outputs": []
    },
    {
      "cell_type": "markdown",
      "metadata": {
        "id": "E39272lZij94"
      },
      "source": [
        "Importing Dataset"
      ]
    },
    {
      "cell_type": "code",
      "metadata": {
        "colab": {
          "base_uri": "https://localhost:8080/"
        },
        "id": "PrgRxoeOikj4",
        "outputId": "719fe4a2-6b8c-4472-c9b0-94e3f133e9cf"
      },
      "source": [
        "f = open('chatbot.txt', 'r', errors = 'ignore')\r\n",
        "raw = f.read()\r\n",
        "\r\n",
        "#converting all to lowercase\r\n",
        "raw = raw.lower()\r\n",
        "\r\n",
        "#one time download\r\n",
        "nltk.download('punkt')\r\n",
        "\r\n",
        "#1st time use\r\n",
        "nltk.download('wordnet')\r\n",
        "\r\n",
        "#raw data to sentences\r\n",
        "sent_tokens=nltk.sent_tokenize(raw)\r\n",
        "\r\n",
        "#raw data to words\r\n",
        "word_tokens=nltk.word_tokenize(raw)"
      ],
      "execution_count": 3,
      "outputs": [
        {
          "output_type": "stream",
          "text": [
            "[nltk_data] Downloading package punkt to /root/nltk_data...\n",
            "[nltk_data]   Package punkt is already up-to-date!\n",
            "[nltk_data] Downloading package wordnet to /root/nltk_data...\n",
            "[nltk_data]   Package wordnet is already up-to-date!\n"
          ],
          "name": "stdout"
        }
      ]
    },
    {
      "cell_type": "markdown",
      "metadata": {
        "id": "VegISjxEt57v"
      },
      "source": [
        "Preprocessing and handling a data"
      ]
    },
    {
      "cell_type": "code",
      "metadata": {
        "id": "7-kzjWFKt-kL"
      },
      "source": [
        "lemer = nltk.stem.WordNetLemmatizer()\r\n",
        "\r\n",
        "def LemTokens(tokens) : \r\n",
        "  return [lemer.lemmatize(token) for token in tokens]\r\n",
        "\r\n",
        "remove_punc_dict = dict((ord(punct), None) for punct in string.punctuation)\r\n",
        "\r\n",
        "def LemNormalize(text) :\r\n",
        "  return LemTokens(nltk.word_tokenize(text.lower().translate(remove_punc_dict)))"
      ],
      "execution_count": 18,
      "outputs": []
    },
    {
      "cell_type": "markdown",
      "metadata": {
        "id": "sGtuHMi-xYuH"
      },
      "source": [
        "Programming a greet responces"
      ]
    },
    {
      "cell_type": "code",
      "metadata": {
        "id": "bkuxcIxzxfZd"
      },
      "source": [
        "GREETING_INPUTS = [\"hello\", \"hi\", \"greetings\", \"sup\", \"what's up\", \"hey\"]\r\n",
        "GREETING_OUTPUTS = [\"hii\", \"hey\", \"nods\", \"hi there\", \"hello\", \"I m glad!You are talking to me\", \"hello there\"]\r\n",
        "\r\n",
        "def greeting(sentence):\r\n",
        "  for word in sentence.split() :\r\n",
        "    if word.lower() in GREETING_INPUTS :\r\n",
        "      return random.choice(GREETING_OUTPUTS)"
      ],
      "execution_count": 19,
      "outputs": []
    },
    {
      "cell_type": "markdown",
      "metadata": {
        "id": "tbJXL2shy5tt"
      },
      "source": [
        "Generating Responces"
      ]
    },
    {
      "cell_type": "code",
      "metadata": {
        "id": "xI1Nz5J3zB7B"
      },
      "source": [
        "from sklearn.feature_extraction.text import TfidfVectorizer\r\n",
        "from sklearn.metrics.pairwise import cosine_similarity"
      ],
      "execution_count": 20,
      "outputs": []
    },
    {
      "cell_type": "code",
      "metadata": {
        "id": "_9U-EQAHzdb_"
      },
      "source": [
        "def response(user_response) :\r\n",
        "  robo_response = ''\r\n",
        "  sent_tokens.append(user_response)\r\n",
        "  TfidfVec = TfidfVectorizer(tokenizer = LemNormalize, stop_words = \"english\")\r\n",
        "  tfidf = TfidfVec.fit_transform(sent_tokens)\r\n",
        "  vals = cosine_similarity(tfidf[-1], tfidf)\r\n",
        "  idx = vals.argsort()[0][-2]\r\n",
        "  flat = vals.flatten()\r\n",
        "  flat.sort()\r\n",
        "  req_tfidf = flat[-2]\r\n",
        "  if req_tfidf == 0 :\r\n",
        "    robo_response = robo_response + \"I am Sorry! I dont understand you\"\r\n",
        "    return robo_response\r\n",
        "  else :\r\n",
        "    robo_response = robo_response + sent_tokens[idx]\r\n",
        "    return robo_response"
      ],
      "execution_count": 21,
      "outputs": []
    },
    {
      "cell_type": "code",
      "metadata": {
        "colab": {
          "base_uri": "https://localhost:8080/"
        },
        "id": "kfbAqdNo3gZW",
        "outputId": "187a08ab-199c-490d-c863-d7c18e43a400"
      },
      "source": [
        "flag = True\r\n",
        "print(\"Chatbot : My name is BookOneBot! How can I help you. If you want to quit just type Bye anytime!!\")\r\n",
        "while (flag == True) : \r\n",
        "  user_response = input()\r\n",
        "  user_response = user_response.lower()\r\n",
        "  if user_response != \"bye\":\r\n",
        "    if user_response == \"thanks\" or user_response == \"thank you\":\r\n",
        "      flag = False\r\n",
        "      print(\"ChatBot : You are Welcome!\")\r\n",
        "    else :\r\n",
        "      if greeting(user_response) != None :\r\n",
        "        print(\"ChatBot :\" +greeting(user_response))\r\n",
        "      else :\r\n",
        "        print(\"ChatBot\", end=\" \")\r\n",
        "        print(response(user_response))\r\n",
        "        sent_tokens.remove(user_response)\r\n",
        "  else :\r\n",
        "    flag = False\r\n",
        "    print(\" ChatBot : Thanks for talking. Bye Bye\r\n",
        "    \")\r\n",
        "  \r\n",
        "\r\n"
      ],
      "execution_count": 26,
      "outputs": [
        {
          "output_type": "stream",
          "text": [
            "Chatbot : My name is BookOneBot! How can I help you. If you want to quit just type Bye anytime!!\n",
            "hii\n"
          ],
          "name": "stdout"
        },
        {
          "output_type": "stream",
          "text": [
            "/usr/local/lib/python3.6/dist-packages/sklearn/feature_extraction/text.py:385: UserWarning: Your stop_words may be inconsistent with your preprocessing. Tokenizing the stop words generated tokens ['ha', 'le', 'u', 'wa'] not in stop_words.\n",
            "  'stop_words.' % sorted(inconsistent))\n"
          ],
          "name": "stderr"
        },
        {
          "output_type": "stream",
          "text": [
            "ChatBot hii\n",
            "hey\\\n"
          ],
          "name": "stdout"
        },
        {
          "output_type": "stream",
          "text": [
            "/usr/local/lib/python3.6/dist-packages/sklearn/feature_extraction/text.py:385: UserWarning: Your stop_words may be inconsistent with your preprocessing. Tokenizing the stop words generated tokens ['ha', 'le', 'u', 'wa'] not in stop_words.\n",
            "  'stop_words.' % sorted(inconsistent))\n"
          ],
          "name": "stderr"
        },
        {
          "output_type": "stream",
          "text": [
            "ChatBot I am Sorry! I dont understand you\n",
            "hey\n",
            "ChatBot :hey\n",
            "bnsakhdsjdgbhsanhdjk\n"
          ],
          "name": "stdout"
        },
        {
          "output_type": "stream",
          "text": [
            "/usr/local/lib/python3.6/dist-packages/sklearn/feature_extraction/text.py:385: UserWarning: Your stop_words may be inconsistent with your preprocessing. Tokenizing the stop words generated tokens ['ha', 'le', 'u', 'wa'] not in stop_words.\n",
            "  'stop_words.' % sorted(inconsistent))\n"
          ],
          "name": "stderr"
        },
        {
          "output_type": "stream",
          "text": [
            "ChatBot I am Sorry! I dont understand you\n",
            "hi\n",
            "ChatBot :hii\n",
            "hi\n",
            "ChatBot :nods\n",
            "bye\n",
            " ChatBot : Thanks for talking. Bye Bye!\n"
          ],
          "name": "stdout"
        }
      ]
    }
  ]
}